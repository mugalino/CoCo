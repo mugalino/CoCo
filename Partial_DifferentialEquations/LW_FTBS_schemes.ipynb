{
  "cells": [
    {
      "cell_type": "markdown",
      "id": "e69b096f",
      "metadata": {
        "id": "e69b096f"
      },
      "source": [
        "# Problem 1\n",
        "\n",
        "Use Von Neumann analyis to show that\n",
        "\n",
        "* if one takes $k=\\lambda h$, where $\\lambda > 0$ is a constant independent of $k$ and $h$, then the forward-time central-space scheme is unstable.\n",
        "\n",
        "\\begin{equation}\n",
        "\\frac{v_m^{n+1}-v_m^n}{k} + a\\frac{v_{m+1}^n - v_{m-1}^n}{2h} = 0\n",
        "\\end{equation}\n",
        "\n",
        "**Solution.** If we take $v_m^n$ as reference, the amplification factor is given by\n",
        "\\begin{equation}\n",
        "\\frac{g - 1}{k} + a\\frac{e^{i\\theta} - e^{-i\\theta}}{2h} = 0\n",
        "\\end{equation}\n",
        "which we can multiply by $k$,\n",
        "\\begin{equation}\n",
        "g-1 +a\\lambda (i\\sin\\theta) = 0\n",
        "\\end{equation}\n",
        "If we isolate $g$ on one side, we obtain\n",
        "\\begin{equation}\n",
        "g = 1 - ia\\lambda \\sin\\theta\n",
        "\\end{equation}\n",
        "If we take the square modulus of $g$, the stability criterion requires that $|g|^2 \\leq 1$. This implies that\n",
        "\\begin{equation}\n",
        "|g|^2 = 1 + a^2 \\lambda^2 \\sin^2\\theta \\leq 1\n",
        "\\end{equation}\n",
        "However, since $a^2$, $\\lambda^2$ and $\\sin^2\\theta$ are positive definite, $a^2 \\lambda^2 \\sin^2\\theta$ cannot be less than $0$. Therefore, $|g|^2 > 1$ which implies that the scheme is unstable for all choices of $\\lambda$ for any speed $a$.\n",
        "\n",
        "* if one takes $k=h^2$, i.e. $\\lambda = k^{1/2}$, then the forward-time central-space scheme is stable and consistent with the equation $u_t +a u_x =0$.\n",
        "\n",
        "**Solution.** If we consider the case where $k=h^2$ such that $\\lambda=k^{1/2}$, it will recast our amplification factor to,\n",
        "\\begin{equation}\n",
        "g = 1 - iak^{1/2}\\sin\\theta\n",
        "\\end{equation}\n",
        "such that its square modulus is given by,\n",
        "\\begin{equation}\n",
        "|g|^2 = 1 + (a\\sin\\theta)^2 k  \n",
        "\\end{equation}\n",
        "Since $(a\\sin\\theta)^2 \\in [0,a^2]$,\n",
        "\\begin{equation}\n",
        "|g|^2 = 1 + (a\\sin\\theta)^2 k  \\leq 1 + a^2k\n",
        "\\end{equation}\n",
        "Also, since $k$ is always greater than zero,\n",
        "\\begin{equation}\n",
        "1+ a^2k < (1+a^2k)^2\n",
        "\\end{equation}\n",
        "or that,\n",
        "\\begin{equation}\n",
        "|g|^2 \\leq (1+a^2k)^2\n",
        "\\end{equation}\n",
        "This implies that the modulus of the amplification function satisfies the inequality\n",
        "\\begin{equation}\n",
        "|g| \\leq (1+\\kappa k)\n",
        "\\end{equation}\n",
        "where $\\kappa = a^2$. Hence, if $\\lambda = k^{1/2}$, the forward-time central-space scheme is stable.\n",
        "\n",
        "If $k=h^2$ we can rewrite the scheme as,\n",
        "\\begin{equation}\n",
        "P_{h,k}u = \\frac{u_m^{n+1}-u_m^n}{h^2} + a\\frac{u_{m+1}^n - u_{m-1}^n}{2h} \n",
        "\\end{equation}\n",
        "We need to expand the solution $u$ about $(t_n, x_m)$,\n",
        "\\begin{align}\n",
        "u_m^n & = u(t_n, x_m)\\\\\n",
        "u_m^{n+1} & = u_m^n + k (u_t)^n_m + \\mathcal{O}(k^2) \\\\\n",
        "u_{m+1}^n & = u_m^n + h (u_x)^n_m + \\frac{h^2}{2} (u_{xx})^n_m + \\mathcal{O}(h^3)\\\\\n",
        "u_{m-1}^n & = u_m^n - h (u_x)^n_m + \\frac{h^2}{2} (u_{xx})^n_m + \\mathcal{O}(h^3)\n",
        "\\end{align}\n",
        "giving us, \n",
        "\\begin{align}\n",
        "P_{h,k}u &= \\frac{u_m^n + k (u_t)^n_m + \\mathcal{O}(k^2) - u_m^n}{h^2} + a \\frac{(u_m^n + h (u_x)^n_m + \\frac{h^2}{2} (u_{xx})^n_m + \\mathcal{O}(h^3)) - (u_m^n - h (u_x)^n_m + \\frac{h^2}{2} (u_{xx})^n_m + \\mathcal{O}(h^3))}{2h}\\\\\n",
        "& = \\frac{ k (u_t)^n_m + \\mathcal{O}(k^2)}{k} + a\\frac{2h (u_x)^n_m + \\mathcal{O}(h^3)}{2h}\\\\\n",
        "& = (u_t)^n_m + \\mathcal{O}(k) + a (u_x)^n_m + \\mathcal{O}(h^2)\n",
        "\\end{align}\n",
        "or\n",
        "\\begin{equation}\n",
        "P_{h,k}u - Pu = \\mathcal{O}(k) + \\mathcal{O}(h^2) = \\mathcal{O}(k) \n",
        "\\end{equation}\n",
        "As $(h,k)\\to 0$, $P_{h,k}u - Pu\\to 0$; hence, the scheme is consistent."
      ]
    },
    {
      "cell_type": "markdown",
      "id": "9145e5ca",
      "metadata": {
        "id": "9145e5ca"
      },
      "source": [
        "# Problem 2\n",
        "\n",
        "Prove that the backward-time central-space scheme\n",
        "\\begin{equation}\n",
        "\\frac{v_m^{n+1} - v_m^n}{k} + a\\frac{v^{n+1}_{m+1}-v_{m-1}^{n+1}}{2h} = 0\n",
        "\\end{equation}\n",
        "for the equation $u_t + au_x = 0$ is unconditionally stable and is accurate of order (1,2).\n",
        "\n",
        "**Solution.** We can perform the Von Neumann analysis to prove that this scheme is unconditionally stable.The amplification factor $g$ can be obtained by solving the equation,\n",
        "\\begin{equation}\n",
        "\\frac{g - 1}{k} + a\\frac{ge^{i\\theta} - ge^{-i\\theta}}{2h} = 0\n",
        "\\end{equation}\n",
        "Let us first multiply both sides by $k$ such that,\n",
        "\\begin{equation}\n",
        "g-1 + ia g\\lambda \\sin\\theta = 0\n",
        "\\end{equation}\n",
        "If we isolate $g$ terms on one side, we obtian\n",
        "\\begin{equation}\n",
        "g(1 + ia\\lambda \\sin\\theta) = 1\n",
        "\\end{equation}\n",
        "or \n",
        "\\begin{equation}\n",
        "g = \\frac{1}{1 + ia\\lambda \\sin\\theta}\n",
        "\\end{equation}\n",
        "The modulus squared of $g$ is given by,\n",
        "\\begin{equation}\n",
        "|g|^2 = \\left(\\frac{1}{1 + ia\\lambda \\sin\\theta}\\right) \\left(\\frac{1}{1 - ia\\lambda \\sin\\theta}\\right) = \\frac{1}{1 + a^2\\lambda^2\\sin^2\\theta}\n",
        "\\end{equation}\n",
        "Since $a^2\\lambda^2\\sin^2\\theta\\leq 0$, or $1 + a^2\\lambda^2\\sin^2\\theta>1$, then $1/(1 + a^2\\lambda^2\\sin^2\\theta) < 1$. This means that for all choices of $a$ and $\\lambda$ the backward-time central-space scheme is unconditionally stable.\n",
        "\n",
        "Let us now obtain the order of accuracy of this scheme. We can do this by obtaining the Taylor expansion of the solution $u$ around $(t_{n+1}, x_m)$. \n",
        "\n",
        "\\begin{align}\n",
        "u_m^{n+1} &= u(t_{n+1}, x_m) \\\\\n",
        "u_m^{n} &= u(t_{n+1}-k, x_m) = u_m^{n+1} -k(u_t)_m^{n+1} +\\mathcal{O}(k^2)\\\\\n",
        "u^{n+1}_{m+1}&= u(t_{n+1}, x_m +h) = u_m^{n+1} + h (u_x)_m^{n+1}+\\frac{h^2}{2}(u_{xx})_m^{n+1} + \\mathcal{O}(h^3) \\\\\n",
        "u_{m-1}^{n+1}&=u(t_{n+1}, x_m -h)= u_m^{n+1} - h (u_x)_m^{n+1}+\\frac{h^2}{2}(u_{xx})_m^{n+1} + \\mathcal{O}(h^3) \n",
        "\\end{align}\n",
        "\n",
        "\\begin{align}\n",
        "a\\frac{u^{n+1}_{m+1}-u_{m-1}^{n+1}}{2h}&= a\\frac{u_m^{n+1} + h (u_x)_m^{n+1}+\\frac{h^2}{2}(u_{xx})_m^{n+1} + \\mathcal{O}(h^3) -(u_m^{n+1} - h (u_x)_m^{n+1}+\\frac{h^2}{2}(u_{xx})_m^{n+1} + \\mathcal{O}(h^3))}{2h}\\\\\n",
        "&= a\\frac{2h (u_x)_m^{n+1}}{2h} + \\mathcal{O}(h^2) = a(u_x)_m^{n+1}+ \\mathcal{O}(h^2)\\\\\n",
        "\\frac{u_m^{n+1} - u_m^n}{k} &= \\frac{u_m^{n+1} -(u_m^{n+1} -k(u_t)_m^{n+1} +\\mathcal{O}(k^2))}{k}\\\\\n",
        "& = \\frac{k(u_t)_m^{n+1} +\\mathcal{O}(k^2)}{k} = (u_t)_m^{n+1} + \\mathcal{O}(k)\n",
        "\\end{align}\n",
        "\n",
        "Combining these results we get,\n",
        "\\begin{equation}\n",
        "P_{h,k}u = \\frac{u_m^{n+1} - u_m^n}{k} + a\\frac{u^{n+1}_{m+1}-u_{m-1}^{n+1}}{2h} = u_t + a u_x + \\mathcal{O}(k) + \\mathcal{O}(h^2)\n",
        "\\end{equation}\n",
        "Since, $u_t + a u_x = 0$,\n",
        "\\begin{equation}\n",
        "P_{h,k}u = \\mathcal{O}(k) + \\mathcal{O}(h^2)\n",
        "\\end{equation}\n",
        "\n",
        "which implies that the backward-time central-space scheme is first order accurate in time, and second order accurate in space."
      ]
    },
    {
      "cell_type": "markdown",
      "id": "8a5191b5",
      "metadata": {
        "id": "8a5191b5"
      },
      "source": [
        "# Problem 3\n",
        "\n",
        "Consider the one-way wave equation\n",
        "\n",
        "\\begin{equation}\n",
        "u_t+u_x = 0, \\quad x\\in [-1,1], t\\in[0, 1.2]\n",
        "\\end{equation}\n",
        "\n",
        "with initial condition\n",
        "\n",
        "\\begin{equation}\n",
        "u(x,0) = \\sin(2\\pi x)       \n",
        "\\end{equation}\n",
        "and the boundary condition $u(t,-1)=u(t,1)$.\n",
        "\n",
        "Use the following four schemes for $h=1/10, 1/20$, $1/40$ and $1/80$ to solve the problem."
      ]
    },
    {
      "cell_type": "code",
      "execution_count": null,
      "id": "c9543331",
      "metadata": {
        "id": "c9543331"
      },
      "outputs": [],
      "source": [
        "# Initial call for required packages\n",
        "import numpy as np # for mathematical operations\n",
        "import matplotlib.pyplot as plt # for plotting\n",
        "\n",
        "def init_space(x):\n",
        "    \"\"\"\n",
        "    Enforce conditional about the initial boundary condition\n",
        "    for space, common for all problems\n",
        "    \"\"\"\n",
        "    return np.sin(2*np.pi*x)\n",
        "\n",
        "def final_space(x, t):\n",
        "    \"\"\"\n",
        "    Gives final solution for the one-way transport equation\n",
        "    \"\"\"\n",
        "    \n",
        "    return init_space(x - t)"
      ]
    },
    {
      "cell_type": "markdown",
      "id": "e4ea0c7d",
      "metadata": {
        "id": "e4ea0c7d"
      },
      "source": [
        "The $L^2$ error is given by,\n",
        "\n",
        "\\begin{equation}\n",
        "\\mathrm{Error}(t_n) = ||u(t_n,\\cdot)-v^n||_h = \\left(h\\sum_m |u(t_n,x_m)-v^n_m|^2\\right)^{1/2}\n",
        "\\end{equation}"
      ]
    },
    {
      "cell_type": "code",
      "execution_count": null,
      "id": "5be8b7e9",
      "metadata": {
        "id": "5be8b7e9"
      },
      "outputs": [],
      "source": [
        "def error(actual, approx, h):\n",
        "    actual_new = actual[1:]\n",
        "    approx_new = approx[1:]\n",
        "    \n",
        "    number = len(actual_new)\n",
        "    \n",
        "    diff = [np.abs(actual_new[i]-approx_new[i])**2 for i in range(number)]\n",
        "    summed = np.sum(diff)\n",
        "    ltwo = np.sqrt(h*summed)\n",
        "    \n",
        "    return ltwo"
      ]
    },
    {
      "cell_type": "markdown",
      "id": "6accb048",
      "metadata": {
        "id": "6accb048"
      },
      "source": [
        "## FTBS scheme with $\\lambda=0.8$\n",
        "\n",
        "The forward time backward space scheme is described by\n",
        "\\begin{equation}\n",
        "\\frac{v_m^{n+1} - v_m^n}{k} + a\\frac{v_m^n - v_{m-1}^n}{h} = 0\n",
        "\\end{equation}\n",
        "We can rewrite this as,\n",
        "\\begin{equation}\n",
        "v_m^{n+1} = v_m^n - a\\lambda(v_m^n - v_{m-1}^n) = (1-a\\lambda)v_m^n + a\\lambda v_{m-1}^n\n",
        "\\end{equation}\n",
        "\n",
        "Shown below is a Python implementation of the FTBS scheme."
      ]
    },
    {
      "cell_type": "code",
      "execution_count": null,
      "id": "9f1d9809",
      "metadata": {
        "id": "9f1d9809"
      },
      "outputs": [],
      "source": [
        "def ftbs(xleft, xright, T, h, k, a, plot = 0):\n",
        "    \"\"\"\n",
        "    Solves the one way wave equation ut + a ux = 0 with speed of propagation \n",
        "    with boundaries along x xleft and xright, and end time T\n",
        "    \n",
        "    Forward time backward space\n",
        "    \n",
        "    h mesh in space (dx)\n",
        "    k step in time (dt)\n",
        "    lambda = k/h\n",
        "    a : speed of propagation\n",
        "    \"\"\"\n",
        "    \n",
        "    # number of intervals along the x direction : m\n",
        "    m = np.ceil((xright - xleft)/h)\n",
        "    # number of intervals along the t direction : n\n",
        "    n = np.ceil(T/k)\n",
        "    \n",
        "    n = int(n)\n",
        "    m = int(m)\n",
        "    \n",
        "    # We have to adjust the mesh size |0  |1  |2  |<- 3 subintervals\n",
        "    #                                |<-(xr-xl)->|\n",
        "    #                                |    | <- mesh size is (xright-xleft)/m \n",
        "    #                                |    | <- step size is (tfinal-tinit)/n\n",
        "    \n",
        "    hnew = (xright - xleft)/m\n",
        "    knew = T/n\n",
        "    \n",
        "    lamb = knew / hnew\n",
        "    \n",
        "    # We will incorporate Prof Bo Dong's procedure for time marching\n",
        "    prev_time = 0\n",
        "    next_time = 1\n",
        "    \n",
        "    # Initialize the mesh \n",
        "    xgrid = np.arange(xleft, xright + hnew, hnew)\n",
        "    \n",
        "    # Initialize 2 x hnew array to store previous and current time\n",
        "    solution = np.zeros((2,int(m+1)))\n",
        "    \n",
        "    # Feed initial data\n",
        "    solution[prev_time,:] = np.array([init_space(x) for x in xgrid])\n",
        "    \n",
        "    for i in range(n):\n",
        "        for j in range(1,m+1):\n",
        "            solution[next_time, j] = (1 - a*lamb)*solution[prev_time, j] + a*lamb*solution[prev_time, j-1]\n",
        "        solution[next_time, 0] = solution[next_time, -1] \n",
        "        \n",
        "        hold = prev_time\n",
        "        prev_time = next_time\n",
        "        next_time = hold\n",
        "        \n",
        "    final_solution = solution[prev_time, :]\n",
        "    \n",
        "    if plot:\n",
        "        plt.scatter(xgrid,final_solution, color = 'red',s=4, label='approx. solution')\n",
        "    \n",
        "        xgrd = np.linspace(xleft, xright, 1000)\n",
        "        # Initial solution\n",
        "        plt.plot(xgrd, [init_space(x) for x in xgrd],label='init. solution')\n",
        "        # Final solution\n",
        "        plt.plot(xgrd, [final_space(x, T) for x in xgrd], label = 'final solution')\n",
        "        plt.title(r'FTBS scheme for $\\lambda=$%.1f' % (k/h)+' and $h=$'+str(h))\n",
        "        plt.legend()\n",
        "    \n",
        "    lt = error([final_space(x, T) for x in xgrid], final_solution,hnew)\n",
        "    print(lt)"
      ]
    },
    {
      "cell_type": "code",
      "execution_count": null,
      "id": "2ba04ef5",
      "metadata": {
        "scrolled": false,
        "id": "2ba04ef5",
        "outputId": "79b58ce4-2344-4435-a989-ddf661a4c2f7"
      },
      "outputs": [
        {
          "name": "stdout",
          "output_type": "stream",
          "text": [
            "0.052841271402068214\n"
          ]
        },
        {
          "data": {
            "image/png": "[encoded data removed]",
            "text/plain": [
              "<Figure size 432x288 with 1 Axes>"
            ]
          },
          "metadata": {
            "needs_background": "light"
          },
          "output_type": "display_data"
        }
      ],
      "source": [
        "ftbs(-1, 1, 1.1, 0.0125, 0.01, 1,1) # h = 1/10"
      ]
    },
    {
      "cell_type": "code",
      "execution_count": null,
      "id": "f927e050",
      "metadata": {
        "scrolled": false,
        "id": "f927e050",
        "outputId": "ac21205a-848a-46b8-94ed-1f6531e0df33"
      },
      "outputs": [
        {
          "name": "stdout",
          "output_type": "stream",
          "text": [
            "0.21125922090568722\n"
          ]
        }
      ],
      "source": [
        "ftbs(-1, 1, 1.2, 0.05, 0.04, 1) # h = 1/20"
      ]
    },
    {
      "cell_type": "code",
      "execution_count": null,
      "id": "3a25a51f",
      "metadata": {
        "scrolled": true,
        "id": "3a25a51f",
        "outputId": "e3a3f92a-8a18-4f04-ef33-9413651ec315"
      },
      "outputs": [
        {
          "name": "stdout",
          "output_type": "stream",
          "text": [
            "0.11173705695456693\n"
          ]
        }
      ],
      "source": [
        "ftbs(-1, 1, 1.2, 0.025, 0.02, 1) # h = 1/40"
      ]
    },
    {
      "cell_type": "code",
      "execution_count": null,
      "id": "c1d7cac0",
      "metadata": {
        "scrolled": true,
        "id": "c1d7cac0",
        "outputId": "84de3ed1-c1cc-49c1-bb70-6e41b24ddaec"
      },
      "outputs": [
        {
          "name": "stdout",
          "output_type": "stream",
          "text": [
            "0.057504309748996896\n"
          ]
        }
      ],
      "source": [
        "ftbs(-1, 1, 1.2, 0.0125, 0.01, 1) # h = 1/80"
      ]
    },
    {
      "cell_type": "markdown",
      "id": "f44c1d0f",
      "metadata": {
        "id": "f44c1d0f"
      },
      "source": [
        "We can see that as we decrease the mesh size by half, the local truncation error also decreases by half (~0.4, ~0.2, ~0.1, ~0.05). This implies that FTBS is first order accurate."
      ]
    },
    {
      "cell_type": "markdown",
      "id": "8c09e21c",
      "metadata": {
        "id": "8c09e21c"
      },
      "source": [
        "## Lax-Wendroff scheme with $\\lambda=0.8$\n",
        "\n",
        "The Lax-Wendroff scheme is described by\n",
        "\\begin{equation}\n",
        "\\frac{v_m^{n+1} - v_m^n}{k} + a\\frac{v_{m+1}^n - v_{m-1}^n}{2h} - \\frac{a^2 k}{2}\\frac{(v^n_{m+1}-2v_m^n + v_{m-1}^n)}{h^2} = 0\n",
        "\\end{equation}\n",
        "\n",
        "We can rewrite this in terms of $\\lambda$ by multiplying both sides by $k$. This leaves us with\n",
        "\\begin{equation}\n",
        "v_m^{n+1} - v_m^n + \\frac{a\\lambda}{2}(v_{m+1}^n - v_{m-1}^n) - \\frac{a^2 \\lambda^2}{2}(v^n_{m+1}-2v_m^n + v_{m-1}^n) = 0\n",
        "\\end{equation}\n",
        "which if we massage further by isolating $v_m^{n+1}$ yields,\n",
        "\\begin{equation}\n",
        "v_m^{n+1} =  v_m^n - \\frac{a\\lambda}{2}(v_{m+1}^n - v_{m-1}^n) + \\frac{a^2 \\lambda^2}{2}(v^n_{m+1}-2v_m^n + v_{m-1}^n) \n",
        "\\end{equation}\n",
        "or \n",
        "\\begin{equation}\n",
        "v_m^{n+1} = \\left(1 - a^2\\lambda^2\\right) v^n_m + \\left(\\frac{a\\lambda}{2} + \\frac{a^2\\lambda^2}{2}\\right) v_{m-1}^n + \\left(\\frac{a^2\\lambda^2}{2}-\\frac{a\\lambda}{2}\\right) v_{m+1}^n\n",
        "\\end{equation}\n",
        "\\begin{equation}\n",
        "\\boxed{v_m^{n+1} = \\left(1 + a\\lambda\\right)\\left(1-a\\lambda\\right) v^n_m + \\frac{a\\lambda}{2}\\left(1 + a\\lambda\\right) v_{m-1}^n - \\frac{a\\lambda}{2}\\left(1-a\\lambda\\right) v_{m+1}^n}\n",
        "\\end{equation}\n"
      ]
    },
    {
      "cell_type": "code",
      "execution_count": null,
      "id": "d4e86bea",
      "metadata": {
        "id": "d4e86bea"
      },
      "outputs": [],
      "source": [
        "def laxwen(xleft, xright, T, h, k, a, plot = 0):\n",
        "    \"\"\"\n",
        "    Solves the one way wave equation ut + a ux = 0 with speed of propagation \n",
        "    with boundaries along x xleft and xright, and end time T\n",
        "    \n",
        "    Forward time backward space\n",
        "    \n",
        "    h mesh in space (dx)\n",
        "    k step in time (dt)\n",
        "    lambda = k/h\n",
        "    a : speed of propagation\n",
        "    \"\"\"\n",
        "    \n",
        "    # number of intervals along the x direction : m\n",
        "    m = np.ceil((xright - xleft)/h)\n",
        "    # number of intervals along the t direction : n\n",
        "    n = np.ceil(T/k)\n",
        "    \n",
        "    n = int(n)\n",
        "    m = int(m)\n",
        "    \n",
        "    # We have to adjust the mesh size |0  |1  |2  |<- 3 subintervals\n",
        "    #                                |<-(xr-xl)->|\n",
        "    #                                |    | <- mesh size is (xright-xleft)/m \n",
        "    #                                |    | <- step size is (tfinal-tinit)/n\n",
        "    \n",
        "    hnew = (xright - xleft)/m\n",
        "    knew = T/n\n",
        "    \n",
        "    lamb = knew / hnew\n",
        "    \n",
        "    # We will incorporate Prof Bo Dong's procedure for time marching\n",
        "    prev_time = 0\n",
        "    next_time = 1\n",
        "    \n",
        "    # Initialize the mesh \n",
        "    xgrid = np.arange(xleft, xright + hnew, hnew)\n",
        "    \n",
        "    # Initialize 2 x hnew array to store previous and current time\n",
        "    solution = np.zeros((2,int(m+1)))\n",
        "    \n",
        "    # Feed initial data\n",
        "    solution[prev_time,:] = np.array([init_space(x) for x in xgrid])\n",
        "    \n",
        "    for i in range(n):\n",
        "        solution[next_time, 0] = (1 + a*lamb)*(1 - a*lamb)*solution[prev_time, 0] +\\\n",
        "                                     (a*lamb/2)*(1 + a*lamb)*solution[prev_time, -2] -\\\n",
        "                                     (a*lamb/2)*(1 - a*lamb)*solution[prev_time, 1]\n",
        "        for j in range(1,m):\n",
        "            solution[next_time, j] = (1 + a*lamb)*(1 - a*lamb)*solution[prev_time, j] +\\\n",
        "                                     (a*lamb/2)*(1 + a*lamb)*solution[prev_time, j-1] -\\\n",
        "                                     (a*lamb/2)*(1 - a*lamb)*solution[prev_time, j+1]  \n",
        "        solution[next_time, -1] = solution[next_time, 0] \n",
        "        \n",
        "        hold = prev_time\n",
        "        prev_time = next_time\n",
        "        next_time = hold\n",
        "        \n",
        "    final_solution = solution[prev_time, :]\n",
        "    \n",
        "    if plot:\n",
        "        plt.scatter(xgrid,final_solution, color = 'red',s=4, label='approx. solution')\n",
        "    \n",
        "        xgrd = np.linspace(xleft, xright, 1000)\n",
        "        # Initial solution\n",
        "        plt.plot(xgrd, [init_space(x) for x in xgrd],label='init. solution')\n",
        "        # Final solution\n",
        "        plt.plot(xgrd, [final_space(x, T) for x in xgrd], label = 'final solution')\n",
        "        plt.title(r'Lax Wendroff scheme for $\\lambda=$%.1f' % (k/h)+' and $h=$'+str(h))\n",
        "        plt.legend()\n",
        "    \n",
        "    lt = error([final_space(x, T) for x in xgrid], final_solution,hnew)\n",
        "    print(lt)"
      ]
    },
    {
      "cell_type": "code",
      "execution_count": null,
      "id": "3bf9694d",
      "metadata": {
        "id": "3bf9694d",
        "outputId": "98648466-386c-404b-a68a-f8ee8cf32951"
      },
      "outputs": [
        {
          "name": "stdout",
          "output_type": "stream",
          "text": [
            "0.16904158949654546\n"
          ]
        }
      ],
      "source": [
        "laxwen(-1, 1, 1.2, 0.1, 0.08, 1) # h = 1/10"
      ]
    },
    {
      "cell_type": "code",
      "execution_count": null,
      "id": "e10e54dd",
      "metadata": {
        "id": "e10e54dd",
        "outputId": "885ff76a-4536-4d3f-f439-d00ce120f377"
      },
      "outputs": [
        {
          "name": "stdout",
          "output_type": "stream",
          "text": [
            "0.044195926472234776\n"
          ]
        }
      ],
      "source": [
        "laxwen(-1, 1, 1.2, 0.05, 0.04, 1) # h = 1/20"
      ]
    },
    {
      "cell_type": "code",
      "execution_count": null,
      "id": "f8b16c7a",
      "metadata": {
        "id": "f8b16c7a",
        "outputId": "c4f4df46-c266-4964-d788-72f5d4f535bb"
      },
      "outputs": [
        {
          "name": "stdout",
          "output_type": "stream",
          "text": [
            "0.011139398864598308\n"
          ]
        }
      ],
      "source": [
        "laxwen(-1, 1, 1.2, 0.025, 0.02, 1) # h = 1/40"
      ]
    },
    {
      "cell_type": "code",
      "execution_count": null,
      "id": "4f6acc40",
      "metadata": {
        "id": "4f6acc40",
        "outputId": "b44d3c53-82d8-4654-c154-316d6e0d211b"
      },
      "outputs": [
        {
          "name": "stdout",
          "output_type": "stream",
          "text": [
            "0.002789315245490517\n"
          ]
        }
      ],
      "source": [
        "laxwen(-1, 1, 1.2, 0.0125, 0.01, 1) # h = 1/80"
      ]
    },
    {
      "cell_type": "markdown",
      "id": "dbb710df",
      "metadata": {
        "id": "dbb710df"
      },
      "source": [
        "The LTE for each mesh size steadily decreases as the resolution becomes finer (~0.169, ~0.044, ~0.011, ~0.0028); as the mesh size becomes smaller by half, the error decreases by 1/4. This implies that Lax-Wendroff is second order accurate."
      ]
    }
  ],
  "metadata": {
    "kernelspec": {
      "display_name": "Anaconda",
      "language": "python",
      "name": "anaconda"
    },
    "language_info": {
      "codemirror_mode": {
        "name": "ipython",
        "version": 3
      },
      "file_extension": ".py",
      "mimetype": "text/x-python",
      "name": "python",
      "nbconvert_exporter": "python",
      "pygments_lexer": "ipython3",
      "version": "3.8.8"
    },
    "colab": {
      "provenance": []
    }
  },
  "nbformat": 4,
  "nbformat_minor": 5
}