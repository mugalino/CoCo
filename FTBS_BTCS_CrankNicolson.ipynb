{
  "cells": [
    {
      "cell_type": "markdown",
      "id": "85a490e0",
      "metadata": {
        "id": "85a490e0"
      },
      "source": [
        "# Problem 1\n",
        "\n",
        "For the heat equation $u_t = bu_{xx}$, prove that the Du Fort-Frankel scheme \n",
        "\n",
        "\\begin{equation}\n",
        "\\frac{v_m^{n+1} - v_m^{n-1}}{2k} = b\\frac{v_{m+1}^n - (v_m^{n+1}+v_m^{n-1}) + v_{m-1}^n}{h^2}\n",
        "\\end{equation}\n",
        "\n",
        "is accurate of order $\\mathcal{O}(h^2)+\\mathcal{O}(k^2)+\\mathcal{O}(k^2h^{-2})$.\n",
        "\n",
        "**Proof** To obtain the order of accuracy of this scheme, we have to apply it to the exact solution $u$ and perform Taylor expansion about the point. The Du Fort-Frankel scheme could also be written as,\n",
        "\\begin{equation}\n",
        "P_{h,k}v = \\frac{v_m^{n+1} - v_m^{n-1}}{2k} - b\\frac{v_{m+1}^n - (v_m^{n+1}+v_m^{n-1}) + v_{m-1}^n}{h^2} = 0\n",
        "\\end{equation}\n",
        "Applying the scheme to the exact solution $u$ yields,\n",
        "\\begin{equation}\n",
        "P_{h,k}u = \\frac{u_m^{n+1} - u_m^{n-1}}{2k} - b\\frac{u_{m+1}^n - (u_m^{n+1}+u_m^{n-1}) + u_{m-1}^n}{h^2} \n",
        "\\end{equation}\n",
        "We shall expand the functions about the point $(x_m, t_n)$. \n",
        "\\begin{align}\n",
        "u_m^n &= u(x_m, t_n)\\\\\n",
        "u_m^{n+1}&=u(x_m, t_n + k)= u_m^n + k(u_t)_m^n + (1/2)k^2(u_{tt})_m^n + \\mathcal{O}(k^3)\\\\\n",
        "u_m^{n-1}&=u(x_m, t_n -k) = u_m^n - k(u_t)_m^n + (1/2)k^2(u_{tt})_m^n + \\mathcal{O}(k^3)\\\\\n",
        "u_{m+1}^n &= u(x_m + h, t_n) = u_m^n + h(u_x)_m^n + (1/2)h^2(u_{xx})_m^n + (1/6)h^3 (u_{xxx})_m^n \\mathcal{O}(h^4)\\\\\n",
        "u_{m-1}^n & = u(x_m - h, t_n) = u_m^n - h(u_x)_m^n + (1/2)h^2(u_{xx})_m^n -(1/6)h^3 (u_{xxx})_m^n+ \\mathcal{O}(h^4)\n",
        "\\end{align}\n",
        "We substitute these to our expression for $P_{h,k}u$,\n",
        "\\begin{equation}\n",
        "P_{h,k}u=\\frac{2k(u_t)_m^n  + \\mathcal{O}(k^3)}{2k}- b\\frac{h^2(u_{xx})_m^n + \\mathcal{O}(h^4) -[k^2 (u_{tt})_m^n+\\mathcal{O}(k^3)] }{h^2} = (u_t)_m^n + \\mathcal{O}(k^2) - b(u_{xx})_m^n +\\mathcal{O}(h^2) -\\frac{\\mathcal{O}(k^2)}{h^2} \n",
        "\\end{equation}\n",
        "Since we are solving the heat equation $u_t - bu_{xx}=0$, we are left with,\n",
        "\\begin{equation}\n",
        "P_{h,k}u = \\mathcal{O}(h^2) + \\mathcal{O}(k^2) + \\mathcal{O}(k^2 h^{-2})\n",
        "\\end{equation}"
      ]
    },
    {
      "cell_type": "markdown",
      "id": "f8fdd994",
      "metadata": {
        "id": "f8fdd994"
      },
      "source": [
        "# Problem 2\n",
        "\n",
        "For the heat equation $u_t = b u_{xx}$, prove that the Crank-Nicolson scheme is unconditionally stable.\n",
        "\\begin{equation}\n",
        "\\frac{v_m^{n+1} - v_m^n}{k} = \\frac{1}{2}b\\frac{v_{m+1}^{n+1}-2v_m^{n+1}+v_{m-1}^{n+1}}{h^2}+\\frac{1}{2}b\\frac{v_{m+1}^n - 2v_m^n + v_{m-1}^n}{h^2}\n",
        "\\end{equation}\n",
        "**Proof** We can prove that the Crank-Nicolson scheme is unconditionally stable by performing a Von Neumann analysis. The equation for the amplification factor $g(\\theta)$ for the Crank-Nicolson scheme has the form, \n",
        "\\begin{equation}\n",
        "\\frac{g -1}{k} = \\frac{1}{2}b\\frac{ge^{i\\theta} - 2g + ge^{-i\\theta}}{h^2} +\\frac{1}{2}b\\frac{e^{i\\theta} - 2 + e^{-i\\theta}}{h^2}\n",
        "\\end{equation}\n",
        "To start, let us multiply both sides by $k$ and define $\\mu\\equiv kh^{-2}$, which yields\n",
        "\\begin{equation}\n",
        "g-1 = \\frac{1}{2}b\\mu\\left(ge^{i\\theta} - 2g + ge^{-i\\theta}\\right) +\\frac{1}{2}b\\mu\\left(e^{i\\theta} - 2 + e^{-i\\theta}\\right)\n",
        "\\end{equation}\n",
        "By using the identity $\\cos\\theta = (e^{i\\theta}+e^{-i\\theta})/2$, we can group several terms and end up with,\n",
        "\\begin{equation}\n",
        "1-g = b\\mu g(1-\\cos\\theta) + b\\mu (1-\\cos\\theta) = b\\mu(1-\\cos\\theta)(1+g)\n",
        "\\end{equation}\n",
        "We can then divide both sides by $(1+g)$ and end up with,\n",
        "\\begin{equation}\n",
        "b\\mu(1-\\cos\\theta) = \\frac{1-g}{1+g}\n",
        "\\end{equation}\n",
        "The right hand side of this equation ranges from $0$ to $2b\\mu$, which is always positive. Hence, $g$ has to be less than or equal to one. This implies that $g$ is unconditionally stable."
      ]
    },
    {
      "cell_type": "markdown",
      "id": "8a5191b5",
      "metadata": {
        "id": "8a5191b5"
      },
      "source": [
        "# Problem 3\n",
        "\n",
        "Consider the heat equation\n",
        "\n",
        "\\begin{equation}\n",
        "u_t=u_{xx}, \\quad x\\in [0, 2\\pi], t\\in[0, 1]\n",
        "\\end{equation}\n",
        "\n",
        "with initial condition\n",
        "\n",
        "\\begin{equation}\n",
        "u(x,0) = \\sin(x)       \n",
        "\\end{equation}\n",
        "and the boundary condition $u(t,0)=u(t,2\\pi)=0$. The exact solution is $u(t,x)=e^{-t}\\sin(x)$.\n",
        "\n",
        "Use the following four schemes for $h=1/10, 1/20$, $1/40$ and $1/80$ to solve the problem."
      ]
    },
    {
      "cell_type": "code",
      "execution_count": null,
      "id": "c9543331",
      "metadata": {
        "id": "c9543331"
      },
      "outputs": [],
      "source": [
        "# Initial call for required packages\n",
        "import numpy as np # for mathematical operations\n",
        "import matplotlib.pyplot as plt # for plotting\n",
        "\n",
        "def init_space(x):\n",
        "    \"\"\"\n",
        "    Enforce conditional about the initial boundary condition\n",
        "    for space, common for all problems\n",
        "    \"\"\"\n",
        "    return np.sin(x)\n",
        "\n",
        "def final_space(x, t):\n",
        "    \"\"\"\n",
        "    Gives final solution for the one-way transport equation\n",
        "    \"\"\"\n",
        "    \n",
        "    return np.exp(-t)*np.sin(x)"
      ]
    },
    {
      "cell_type": "markdown",
      "id": "e4ea0c7d",
      "metadata": {
        "id": "e4ea0c7d"
      },
      "source": [
        "The $L^2$ error is given by,\n",
        "\n",
        "\\begin{equation}\n",
        "\\mathrm{Error}(t_n) = ||u(t_n,\\cdot)-v^n||_h = \\left(h\\sum_m |u(t_n,x_m)-v^n_m|^2\\right)^{1/2}\n",
        "\\end{equation}"
      ]
    },
    {
      "cell_type": "code",
      "execution_count": null,
      "id": "5be8b7e9",
      "metadata": {
        "id": "5be8b7e9"
      },
      "outputs": [],
      "source": [
        "def error(actual, approx, h):\n",
        "    actual_new = actual[1:]\n",
        "    approx_new = approx[1:]\n",
        "    \n",
        "    number = len(actual_new)\n",
        "    \n",
        "    diff = [np.abs(actual_new[i]-approx_new[i])**2 for i in range(number)]\n",
        "    summed = np.sum(diff)\n",
        "    ltwo = np.sqrt(h*summed)\n",
        "    \n",
        "    return ltwo"
      ]
    },
    {
      "cell_type": "markdown",
      "id": "6accb048",
      "metadata": {
        "id": "6accb048"
      },
      "source": [
        "## FTCS scheme \n",
        "\n",
        "The forward time backward space scheme is described by\n",
        "\\begin{equation}\n",
        "\\frac{v_m^{n+1} - v_m^n}{k} = b\\frac{v_{m+1}^n -2v_m^n+ v_{m-1}^n}{h^2} \n",
        "\\end{equation}\n",
        "We can rewrite this as,\n",
        "\\begin{equation}\n",
        "v_m^{n+1} - v_m^n = b\\mu(v_{m+1}^n -2v_m^n+ v_{m-1}^n)\n",
        "\\end{equation}\n",
        "or\n",
        "\\begin{equation}\n",
        "v_m^{n+1}  = (1-2b\\mu)v_m^n + b\\mu(v_{m+1}^n + v_{m-1}^n)\n",
        "\\end{equation}\n",
        "\n",
        "Shown below is a Python implementation of the FTCS scheme."
      ]
    },
    {
      "cell_type": "code",
      "execution_count": null,
      "id": "9f1d9809",
      "metadata": {
        "id": "9f1d9809"
      },
      "outputs": [],
      "source": [
        "def ftcs(xleft, xright, T, M, b, plot = 0):\n",
        "    \"\"\"\n",
        "    Solves the heat equation ut = b uxx with dissipation b \n",
        "    with boundaries along x xleft and xright, and end time T\n",
        "    \n",
        "    Forward time backward space\n",
        "    \n",
        "    h mesh in space (dx)\n",
        "    k step in time (dt)\n",
        "    mu = k/h^2\n",
        "    b : dissipation\n",
        "    \"\"\"\n",
        "    \n",
        "    h = (xright - xleft)/M\n",
        "    k = 1 / M**2\n",
        "    \n",
        "    n = int(T / k)\n",
        "    \n",
        "    mu = k / h**2\n",
        "    \n",
        "    # We will incorporate Prof Bo Dong's procedure for time marching\n",
        "    prev_time = 0\n",
        "    next_time = 1\n",
        "    \n",
        "    # Initialize the mesh \n",
        "    xgrid = np.arange(xleft, xright + h, h)\n",
        "    \n",
        "    # Initialize 2 x hnew array to store previous and current time\n",
        "    solution = np.zeros((2,int(M+1)))\n",
        "    \n",
        "    # Feed initial data\n",
        "    solution[prev_time,:] = np.array([init_space(x) for x in xgrid])\n",
        "    \n",
        "    for i in range(n):\n",
        "        for j in range(1,M):\n",
        "            solution[next_time, j] = (1 - 2*b*mu)*solution[prev_time, j] + b*mu*(solution[prev_time, j+1]+solution[prev_time, j-1])\n",
        "        solution[next_time, 0] = 0.0\n",
        "        solution[next_time, -1] = 0.0\n",
        "        \n",
        "        hold = prev_time\n",
        "        prev_time = next_time\n",
        "        next_time = hold\n",
        "        \n",
        "    final_solution = solution[prev_time, :]\n",
        "    \n",
        "    if plot:\n",
        "        plt.scatter(xgrid,final_solution, color = 'red',s=4, label='approx. solution')\n",
        "    \n",
        "        xgrd = np.linspace(xleft, xright, 1000)\n",
        "        # Initial solution\n",
        "        plt.plot(xgrd, [init_space(x) for x in xgrd],label='init. solution')\n",
        "        # Final solution\n",
        "        plt.plot(xgrd, [final_space(x, T) for x in xgrd], label = 'final solution')\n",
        "        plt.title(r'FTBS scheme for $\\lambda=$%.1f' % (k/h)+' and $h=$'+str(h))\n",
        "        plt.legend()\n",
        "    \n",
        "    lt = error([final_space(x, T) for x in xgrid], final_solution,h)\n",
        "    \n",
        "    return lt"
      ]
    },
    {
      "cell_type": "code",
      "execution_count": null,
      "id": "deb41216",
      "metadata": {
        "scrolled": true,
        "id": "deb41216",
        "outputId": "a035908d-4b15-4377-fe65-76543288de92"
      },
      "outputs": [
        {
          "name": "stdout",
          "output_type": "stream",
          "text": [
            "Error M=10 0.018352993271125995\n",
            "Error M=20 0.004558054993883992\n",
            "Error M=40 0.0011375982551389355\n",
            "Error M=80 0.00028427941045919226\n",
            "M=20 / M=10 0.2483548556112093\n",
            "M=40 / M=20 0.24957975642359892\n",
            "M=80 / M=40 0.24989437982609516\n"
          ]
        }
      ],
      "source": [
        "Ms = [10, 20, 40, 80]\n",
        "errors = [ftcs(0, 2*np.pi, 1.0, M, 1.0) for M in Ms]\n",
        "\n",
        "for i in range(len(Ms)):\n",
        "    print('Error M=' + str(Ms[i]), errors[i])\n",
        "\n",
        "for i in range(len(Ms)-1):\n",
        "    print('M=' + str(Ms[i+1]) + ' /'+ ' M=' + str(Ms[i]), errors[i+1]/errors[i])"
      ]
    },
    {
      "cell_type": "markdown",
      "id": "66fe8efb",
      "metadata": {
        "id": "66fe8efb"
      },
      "source": [
        "Since the error decreases by a quarter for each time we decrease the mesh size by 2, the order of accuracy is 2."
      ]
    },
    {
      "cell_type": "markdown",
      "id": "a775314d",
      "metadata": {
        "id": "a775314d"
      },
      "source": [
        "## BTCS scheme \n",
        "\n",
        "The backward time backward space scheme is described by\n",
        "\\begin{equation}\n",
        "\\frac{v_m^{n+1} - v_m^n}{k} = b\\frac{v_{m+1}^{n+1} -2v_m^{n+1}+ v_{m-1}^{n+1}}{h^2} \n",
        "\\end{equation}\n",
        "which is an implicit scheme. We can rewrite this as,\n",
        "\\begin{equation}\n",
        "v_m^{n+1} - v_m^n = b\\mu(v_{m+1}^{n+1} -2v_m^{n+1}+ v_{m-1}^{n+1})\n",
        "\\end{equation}\n",
        "or, by isolating all terms that involve the $(n+1)$-th time step on one side, and $n$-th terms on the other,\n",
        "\\begin{equation}\n",
        "v_m^{n}  = (1+2b\\mu)v_m^{n+1} -b\\mu(v_{m+1}^n + v_{m-1}^n)\n",
        "\\end{equation}\n",
        "Now, since the boundary conditions demand that both $m=0$ and $m=M$ terms to be equal to zero, we can effectively write the left hand side of the equation as a matrix product of the following form,\n",
        "\n",
        "\\begin{equation}\n",
        "\\begin{bmatrix}\n",
        "    (1+2b\\mu) & -b\\mu & 0 & \\dots  & 0 \\\\\n",
        "    -b\\mu & (1+2b\\mu) & -b\\mu & \\dots  & 0 \\\\\n",
        "    0 & \\ddots & \\ddots & \\ddots & \\vdots \\\\\n",
        "    \\vdots & 0 & -b\\mu & (1+2b\\mu) & -b\\mu \\\\\n",
        "    0 & \\dots & 0 & -b\\mu  & (1+2b\\mu)\n",
        "\\end{bmatrix}\n",
        "\\begin{bmatrix}\n",
        "v_1^{n+1}\\\\\n",
        "v_2^{n+1}\\\\\n",
        "\\vdots\\\\\n",
        "\\vdots\\\\\n",
        "v_{M-1}^{n+1}\n",
        "\\end{bmatrix} = A \\mathbf{v}^{n+1}\n",
        "\\end{equation}\n",
        "where $A$ is a constant matrix defined by $b$ and $\\mu$, while $\\mathbf{v}^{n+1}$ is the vector containing the solution at time level $(n+1)$, which gives us,\n",
        "\\begin{equation}\n",
        "A \\mathbf{v}^{n+1}= \\mathcal{I}\\mathbf{v}^{n}\n",
        "\\end{equation}\n",
        "where $\\mathcal{I}$ is the identity. Shown below is a Python implementation of the BTCS scheme.\n",
        "\n",
        "To start, we shall first define a function that returns a square, tridiagonal matrix for any combination of constants $a$, $b$, and $c$."
      ]
    },
    {
      "cell_type": "code",
      "execution_count": null,
      "id": "3b845dfc",
      "metadata": {
        "id": "3b845dfc"
      },
      "outputs": [],
      "source": [
        "def tridiagonal(a, b, c, size):\n",
        "    \"\"\"\n",
        "    Returns a tridiagonal matrix composed of non-trivial\n",
        "    components a, b, and c for any square matrix of \n",
        "    arbitrary size\n",
        "    \"\"\"\n",
        "    \n",
        "    tri = np.zeros((size,size))\n",
        "    tri[0,0], tri[0,1] = b, c\n",
        "    tri[-1, -1], tri[-1, -2] = b, a\n",
        "    \n",
        "    j = 0\n",
        "    for i in range(1, size-1):\n",
        "        tri[i, j], tri[i, j+1], tri[i, j+2] = a, b, c\n",
        "        j += 1\n",
        "    \n",
        "    return tri"
      ]
    },
    {
      "cell_type": "code",
      "execution_count": null,
      "id": "1b7fa0d7",
      "metadata": {
        "id": "1b7fa0d7"
      },
      "outputs": [],
      "source": [
        "def btcs(xleft, xright, T, M, b, plot = 0):\n",
        "    \"\"\"\n",
        "    Solves the heat equation ut = b uxx with dissipation b \n",
        "    with boundaries along x xleft and xright, and end time T\n",
        "    \n",
        "    Forward time backward space\n",
        "    \n",
        "    h mesh in space (dx)\n",
        "    k step in time (dt)\n",
        "    mu = k/h^2\n",
        "    b : dissipation\n",
        "    \"\"\"\n",
        "\n",
        "    h = (xright - xleft)/M\n",
        "    k = 1 / M**2\n",
        "    \n",
        "    n = int(T / k)\n",
        "    \n",
        "    mu = k / h**2\n",
        "    \n",
        "    # Set up the matrices for linear algebra solve\n",
        "    mat_A = tridiagonal(-(b * mu), 1 + 2*b * mu,-(b * mu), M-1)\n",
        "    mat_B = tridiagonal(0, 1 ,0, M-1)\n",
        "    \n",
        "    # We will incorporate Prof Bo Dong's procedure for time marching\n",
        "    prev_time = 0\n",
        "    next_time = 1\n",
        "    \n",
        "    # Initialize the mesh \n",
        "    xgrid = np.arange(xleft, xright + h, h)\n",
        "    \n",
        "    # Initialize 2 x hnew array to store previous and current time\n",
        "    solution = np.zeros((2,int(M+1)))\n",
        "    \n",
        "    # Feed initial data\n",
        "    solution[prev_time,:] = np.array([init_space(x) for x in xgrid])\n",
        "    \n",
        "    for i in range(n):\n",
        "        solution[next_time, 1:-1] = np.linalg.solve(mat_A, np.dot(mat_B, solution[prev_time, 1:-1]))\n",
        "        \n",
        "        hold = prev_time\n",
        "        prev_time = next_time\n",
        "        next_time = hold\n",
        "        \n",
        "    final_solution = solution[prev_time, :]\n",
        "\n",
        "    if plot:\n",
        "        plt.scatter(xgrid,final_solution, color = 'red',s=4, label='approx. solution')\n",
        "    \n",
        "        xgrd = np.linspace(xleft, xright, 1000)\n",
        "        # Initial solution\n",
        "        plt.plot(xgrd, [init_space(x) for x in xgrd],label='init. solution')\n",
        "        # Final solution\n",
        "        plt.plot(xgrd, [final_space(x, T) for x in xgrd], label = 'final solution')\n",
        "        plt.title(r'BTCS scheme for $M=$'+str(M))\n",
        "        plt.legend()\n",
        "    \n",
        "    lt = error([final_space(x, T) for x in xgrid], final_solution, h)\n",
        "    \n",
        "    return lt"
      ]
    },
    {
      "cell_type": "code",
      "execution_count": null,
      "id": "e5c0210c",
      "metadata": {
        "scrolled": true,
        "id": "e5c0210c",
        "outputId": "6eba82a3-fdce-4016-b090-7d1e70ed900d"
      },
      "outputs": [
        {
          "name": "stdout",
          "output_type": "stream",
          "text": [
            "Error M=10 0.024658503556706193\n",
            "Error M=20 0.006174762596548806\n",
            "Error M=40 0.0015442909985908819\n",
            "Error M=80 0.000386109744812965\n",
            "M=20 / M=10 0.25041108363891373\n",
            "M=40 / M=20 0.2500972263215457\n",
            "M=80 / M=40 0.2500239560842343\n"
          ]
        }
      ],
      "source": [
        "Ms = [10, 20, 40, 80]\n",
        "errors = [btcs(0, 2*np.pi, 1.0, M, 1.0) for M in Ms]\n",
        "\n",
        "for i in range(len(Ms)):\n",
        "    print('Error M=' + str(Ms[i]), errors[i])\n",
        "\n",
        "for i in range(len(Ms)-1):\n",
        "    print('M=' + str(Ms[i+1]) + ' /'+ ' M=' + str(Ms[i]), errors[i+1]/errors[i])"
      ]
    },
    {
      "cell_type": "markdown",
      "id": "c3a8dc2c",
      "metadata": {
        "id": "c3a8dc2c"
      },
      "source": [
        "Since the error decreases by a quarter for each time we decrease the mesh size by 2, the order of accuracy is 2."
      ]
    },
    {
      "cell_type": "markdown",
      "id": "924413c1",
      "metadata": {
        "id": "924413c1"
      },
      "source": [
        "## Crank-Nicolson scheme\n",
        "\n",
        "The Crank-Nicolson scheme for the heat equation is given by,\n",
        "\n",
        "\\begin{equation}\n",
        "\\frac{v_m^{n+1} - v_m^n}{k} = \\frac{1}{2}b\\frac{v_{m+1}^{n+1}-2v_m^{n+1}+v_{m-1}^{n+1}}{h^2}+\\frac{1}{2}b\\frac{v_{m+1}^n - 2v_m^n + v_{m-1}^n}{h^2}\n",
        "\\end{equation}\n",
        "\n",
        "Since this is an implicit equation, our first step is to isolate the terms related to the $(n+1)$-th time step on one side and the $n$-th time step terms on another. In doing this procedure, we also express the ratio $k/h^2$ as $\\mu$. \n",
        "\n",
        "Let us multiply both sides of the equation by $k$ such that, \n",
        "\n",
        "\\begin{equation}\n",
        "v_m^{n+1} - v_m^n = \\frac{1}{2}b\\mu(v_{m+1}^{n+1}-2v_m^{n+1}+v_{m-1}^{n+1})+\\frac{1}{2}b\\mu(v_{m+1}^n - 2v_m^n + v_{m-1}^n)\n",
        "\\end{equation}\n",
        "\n",
        "then isolate the terms as we have stated before,\n",
        "\n",
        "\\begin{equation}\n",
        "v_m^{n+1} -\\frac{1}{2}b\\mu(v_{m+1}^{n+1}-2v_m^{n+1}+v_{m-1}^{n+1}) = v_m^n+\\frac{1}{2}b\\mu(v_{m+1}^n - 2v_m^n + v_{m-1}^n)\n",
        "\\end{equation}\n",
        "\n",
        "which we can rearrange by grouping like terms,\n",
        "\n",
        "\\begin{equation}\n",
        "(1+b\\mu) v_m^{n+1} -\\frac{1}{2}b\\mu v_{m+1}^{n+1} -\\frac{1}{2}b\\mu v_{m-1}^{n+1} = (1-b\\mu) v_m^n +  \\frac{1}{2}b\\mu v_{m+1}^n + \\frac{1}{2}b\\mu v_{m-1}^n\n",
        "\\end{equation}\n",
        "\n",
        "Now, since the boundary conditions demand that both $m=0$ and $m=M$ terms to be equal to zero, we can effectively write the left hand side of the equation as a matrix product of the following form,\n",
        "\n",
        "\\begin{equation}\n",
        "\\begin{bmatrix}\n",
        "    (1+b\\mu) & -\\frac{1}{2}b\\mu & 0 & \\dots  & 0 \\\\\n",
        "    -\\frac{1}{2}b\\mu & (1+b\\mu) & -\\frac{1}{2}b\\mu & \\dots  & 0 \\\\\n",
        "    0 & \\ddots & \\ddots & \\ddots & \\vdots \\\\\n",
        "    \\vdots & 0 & -\\frac{1}{2}b\\mu & (1+b\\mu) & -\\frac{1}{2}b\\mu \\\\\n",
        "    0 & \\dots & 0 & -\\frac{1}{2}b\\mu  & (1+b\\mu)\n",
        "\\end{bmatrix}\n",
        "\\begin{bmatrix}\n",
        "v_1^{n+1}\\\\\n",
        "v_2^{n+1}\\\\\n",
        "\\vdots\\\\\n",
        "\\vdots\\\\\n",
        "v_{M-1}^{n+1}\n",
        "\\end{bmatrix} = A \\mathbf{v}^{n+1}\n",
        "\\end{equation}\n",
        "where $A$ is a constant matrix defined by $b$ and $\\mu$, while $\\mathbf{v}^{n+1}$ is the vector containing the solution at time level $(n+1)$. In the same manner, we can recast the left hand side of the equation as a matrix product of the form,\n",
        "\\begin{equation}\n",
        "\\begin{bmatrix}\n",
        "    (1-b\\mu) & \\frac{1}{2}b\\mu & 0 & \\dots  & 0 \\\\\n",
        "    \\frac{1}{2}b\\mu & (1-b\\mu) & \\frac{1}{2}b\\mu & \\dots  & 0 \\\\\n",
        "    0 & \\ddots & \\ddots & \\ddots & \\vdots \\\\\n",
        "    \\vdots & 0 & \\frac{1}{2}b\\mu & (1-b\\mu) & \\frac{1}{2}b\\mu \\\\\n",
        "    0 & \\dots & 0 & \\frac{1}{2}b\\mu  & (1-b\\mu)\n",
        "\\end{bmatrix}\n",
        "\\begin{bmatrix}\n",
        "v_1^{n}\\\\\n",
        "v_2^{n}\\\\\n",
        "\\vdots\\\\\n",
        "\\vdots\\\\\n",
        "v_{M-1}^{n}\n",
        "\\end{bmatrix} = B \\mathbf{v}^{n}\n",
        "\\end{equation}\n",
        "which gives us,\n",
        "\\begin{equation}\n",
        "A \\mathbf{v}^{n+1}= B \\mathbf{v}^{n}\n",
        "\\end{equation}\n",
        "\n",
        "We can now solve this iteratively from our initial solution represented by the vector $\\mathbf{v}^0$ until $t=1$.\n",
        "\n"
      ]
    },
    {
      "cell_type": "code",
      "execution_count": null,
      "id": "846fc658",
      "metadata": {
        "id": "846fc658"
      },
      "outputs": [],
      "source": [
        "def crank(xleft, xright, T, M, b, plot = 0):\n",
        "    \"\"\"\n",
        "    Solves the heat equation ut = b uxx with dissipation b \n",
        "    with boundaries along x xleft and xright, and end time T\n",
        "    \n",
        "    Forward time backward space\n",
        "    \n",
        "    h mesh in space (dx)\n",
        "    k step in time (dt)\n",
        "    mu = k/h^2\n",
        "    b : dissipation\n",
        "    \"\"\"\n",
        "\n",
        "    h = (xright - xleft)/M\n",
        "    k = 1 / M\n",
        "    \n",
        "    n = int(T / k)\n",
        "    \n",
        "    mu = k / h**2\n",
        "    \n",
        "    # Set up the matrices for linear algebra solve\n",
        "    mat_A = tridiagonal(-(b * mu /2), 1 + b * mu,-(b * mu /2), M-1)\n",
        "    mat_B = tridiagonal((b * mu /2), 1 - b * mu,(b * mu /2), M-1)\n",
        "    \n",
        "    # We will incorporate Prof Bo Dong's procedure for time marching\n",
        "    prev_time = 0\n",
        "    next_time = 1\n",
        "    \n",
        "    # Initialize the mesh \n",
        "    xgrid = np.arange(xleft, xright + h, h)\n",
        "    \n",
        "    # Initialize 2 x hnew array to store previous and current time\n",
        "    solution = np.zeros((2,int(M+1)))\n",
        "    \n",
        "    # Feed initial data\n",
        "    solution[prev_time,:] = np.array([init_space(x) for x in xgrid])\n",
        "    \n",
        "    for i in range(n):\n",
        "        solution[next_time, 1:-1] = np.linalg.solve(mat_A, np.dot(mat_B, solution[prev_time, 1:-1]))\n",
        "        \n",
        "        hold = prev_time\n",
        "        prev_time = next_time\n",
        "        next_time = hold\n",
        "        \n",
        "    final_solution = solution[prev_time, :]\n",
        "\n",
        "    if plot:\n",
        "        plt.scatter(xgrid,final_solution, color = 'red',s=4, label='approx. solution')\n",
        "    \n",
        "        xgrd = np.linspace(xleft, xright, 1000)\n",
        "        # Initial solution\n",
        "        plt.plot(xgrd, [init_space(x) for x in xgrd],label='init. solution')\n",
        "        # Final solution\n",
        "        plt.plot(xgrd, [final_space(x, T) for x in xgrd], label = 'final solution')\n",
        "        plt.title(r'Crank-Nicolson scheme for $M=$'+str(M))\n",
        "        plt.legend()\n",
        "    \n",
        "    lt = error([final_space(x, T) for x in xgrid], final_solution, h)\n",
        "    \n",
        "    return lt\n",
        "    "
      ]
    },
    {
      "cell_type": "code",
      "execution_count": null,
      "id": "cb05db15",
      "metadata": {
        "scrolled": true,
        "id": "cb05db15",
        "outputId": "404575b0-d480-48cc-afcc-69c2e1111bdd"
      },
      "outputs": [
        {
          "name": "stdout",
          "output_type": "stream",
          "text": [
            "Error M=10 0.02100979549110519\n",
            "Error M=20 0.00523359128703592\n",
            "Error M=40 0.0013071738245725977\n",
            "Error M=80 0.00032671624815856396\n",
            "M=20 / M=10 0.24910243839601579\n",
            "M=40 / M=20 0.24976612671505047\n",
            "M=80 / M=40 0.2499409351815848\n"
          ]
        }
      ],
      "source": [
        "Ms = [10, 20, 40, 80]\n",
        "errors = [crank(0, 2*np.pi, 1.0, M, 1.0) for M in Ms]\n",
        "\n",
        "for i in range(len(Ms)):\n",
        "    print('Error M=' + str(Ms[i]), errors[i])\n",
        "\n",
        "for i in range(len(Ms)-1):\n",
        "    print('M=' + str(Ms[i+1]) + ' /'+ ' M=' + str(Ms[i]), errors[i+1]/errors[i])"
      ]
    },
    {
      "cell_type": "markdown",
      "id": "b52a2098",
      "metadata": {
        "id": "b52a2098"
      },
      "source": [
        "Since the error decreases by a quarter for each time we decrease the mesh size by 2, the order of accuracy is 2."
      ]
    }
  ],
  "metadata": {
    "kernelspec": {
      "display_name": "Anaconda",
      "language": "python",
      "name": "anaconda"
    },
    "language_info": {
      "codemirror_mode": {
        "name": "ipython",
        "version": 3
      },
      "file_extension": ".py",
      "mimetype": "text/x-python",
      "name": "python",
      "nbconvert_exporter": "python",
      "pygments_lexer": "ipython3",
      "version": "3.8.8"
    },
    "colab": {
      "provenance": []
    }
  },
  "nbformat": 4,
  "nbformat_minor": 5
}