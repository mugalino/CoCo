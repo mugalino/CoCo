{
  "nbformat": 4,
  "nbformat_minor": 0,
  "metadata": {
    "colab": {
      "provenance": []
    },
    "kernelspec": {
      "name": "python3",
      "display_name": "Python 3"
    },
    "language_info": {
      "name": "python"
    }
  },
  "cells": [
    {
      "cell_type": "code",
      "execution_count": 2,
      "metadata": {
        "id": "lGM95wU7x1rt"
      },
      "outputs": [],
      "source": [
        "# author: mugalino 2022\n",
        "\n",
        "# Imports the necessary packages\n",
        "import numpy as np\n",
        "\n",
        "# This function implements the Cholesky factorization A = T(R) R\n",
        "# Recall that T(R) or the transpose of R is just L\n",
        "# Hence, this is equivalent to A = L T(L)\n",
        "\n",
        "def cholesky_factor(A, debug = False, check_comparison = False, lower_triangular = False):\n",
        "    \"\"\"\n",
        "    This is a function that takes in an input matrix A\n",
        "    and returns a matrix L or R such that A = L T(L) or T(R)T. It serves as\n",
        "    a first step to solving the equation (Ax = b) using Cholesky\n",
        "    factorization for symmetric positive definite matrices.\n",
        "    \n",
        "    mugalino 2022\n",
        "    \"\"\"\n",
        "    \n",
        "    # INITIAL CHECK IF INPUT IS SPD\n",
        "    # Check 1 : Symmetric if A = A^T\n",
        "    # Check 2 : Positive definite if eigenvalues of A are all positive\n",
        "    \n",
        "    if type(A) != np.array :\n",
        "        A = np.array(A)\n",
        "    \n",
        "    # Perform checks\n",
        "    check_one = (A == A.T).all()\n",
        "    check_two = (np.linalg.eigvals(A) >= np.zeros(len(np.linalg.eigvals(A)))).all()\n",
        "    \n",
        "    if check_one:\n",
        "        if check_two:\n",
        "            None\n",
        "        else:\n",
        "            print(\"[Validity Check] The input is not positive definite. Cholesky factorization is only for symmetric positive definite matrices.\")\n",
        "            return\n",
        "    else:\n",
        "        print(\"[Validity Check] The input is not symmetric. Cholesky factorization is only for symmetric positive definite matrices.\")\n",
        "        return\n",
        "    # INITIAL CHECK ENDS HERE\n",
        "    \n",
        "    # CHOLESKY FACTORIZATION STARTS HERE\n",
        "    \n",
        "    # Since the matrix is symmetric positive definite, we only need the upper/lower triangular matrix\n",
        "    # However, we don't necessarily simplify the number of operations by just obtaining the \n",
        "    # triangular piece. We make sure that the elements we operate is just the necessary\n",
        "    # parts.\n",
        "    \n",
        "    if lower_triangular:\n",
        "        L = np.zeros(np.shape(A))\n",
        "\n",
        "        # Note to self: i index for rows, j index for columns\n",
        "\n",
        "        for i in range(np.shape(A)[0]):\n",
        "\n",
        "            # We only need pieces to the left of the diagonal for the j \"for\" loop\n",
        "\n",
        "            for j in range(i+1):\n",
        "                # There are two cases for the Cholesky decomposition\n",
        "                # Case 1: diagonal elements\n",
        "                # Case 2: non-diagonal elementsx\n",
        "\n",
        "                # CASE 1\n",
        "                if i == j:\n",
        "                    L[i,j] = np.sqrt(A[i,i] - np.sum([L[i,k]**2 for k in range(i)]))\n",
        "\n",
        "                # CASE 2\n",
        "                elif i != j:\n",
        "                    L[i,j] = A[i,j] - np.sum([L[j,k] * L[i,k] for k in range(j)])\n",
        "                    L[i,j] = L[i,j] / L[j,j]\n",
        "        cholesky = L\n",
        "        \n",
        "    else:\n",
        "        R = np.zeros(np.shape(A))\n",
        "        \n",
        "        for i in range(len(R)):\n",
        "            R[i,i:] = A[i,i:]\n",
        "        \n",
        "        for i in range(np.shape(A)[0]):\n",
        "            \n",
        "            # We only need pieces to the right of the diagonal for the j \"for\" loop\n",
        "            for j in range(i+1,np.shape(A)[0]):\n",
        "                m = R[i,j] / R[i,i]\n",
        "                R[j, j:] = R[j,j:] - m * R[i,j:]\n",
        "                \n",
        "            R[i,i:] = R[i,i:] / np.sqrt(R[i,i])\n",
        "            \n",
        "        cholesky = R\n",
        "        \n",
        "    # CHOLESKY FACTORIZATION ENDS HERE\n",
        "    \n",
        "    # FINAL CHOLESKY CHECK\n",
        "    # Let us use a numpy package for linear algebra to check our result\n",
        "    \n",
        "    if check_comparison:\n",
        "        print(\"Error matrix from input (A - L * T(L)): \\n\", A - np.dot(L, L.T))\n",
        "        print(\"Error matrix from numpy LAPACK: \\n\", L - np.linalg.cholesky(A))\n",
        "    \n",
        "    # Checks the error if lower than tolerance ~machine precision\n",
        "    if (np.abs(cholesky - np.linalg.cholesky(A)) < 1.e-15).all:\n",
        "        return cholesky\n",
        "    else:\n",
        "        print(r\"Error is higher than the tolerance value $\\varepsilon = 10^{-15}$\")  \n",
        "\n",
        "def forward_substitution(L, b):\n",
        "    \"\"\"\n",
        "    This is a function that takes in a lower triangular matrix \n",
        "    L and input vector b to obtain the solution of the matrix equation\n",
        "    (Ly = b) using forward substitution.\n",
        "    \"\"\"\n",
        "    # START OF FORWARD SUBSTITUTION STEP\n",
        "    y_vector = np.zeros(len(b))\n",
        "    \n",
        "    for index in range(len(y_vector)):\n",
        "        y_vector[index] = (b[index] - np.sum(y_vector[:index]*L[index,:index]))/L[index, index]\n",
        "    \n",
        "    # END OF FORWARD SUBSTITUTION STEP\n",
        "    \n",
        "    return y_vector\n",
        "\n",
        "def backward_substitution(R, y):\n",
        "    \"\"\"\n",
        "    This is a function that takes in an upper triangular matrix \n",
        "    R and input vector y to obtain the solution of the matrix equation\n",
        "    (Rx = y) using backward substitution.\n",
        "    \"\"\"\n",
        "    # START OF BACKWARD SUBSTITUTION STEP\n",
        "    solution_vector = np.zeros(len(y))\n",
        "    \n",
        "    for index in range(len(solution_vector)-1,-1,-1):\n",
        "        solution_vector[index] = (y[index] - np.sum(solution_vector[index:]*R[index,index:]))/R[index, index]\n",
        "    \n",
        "    # END OF BACKWARD SUBSTITUTION STEP\n",
        "    \n",
        "    return solution_vector\n",
        "\n",
        "def cholesky_solver(A, b, debug = False, check_comparison = False, lower_triangular = True):\n",
        "    \"\"\"\n",
        "    This is a function that takes in an input matrix A\n",
        "    and returns the solution vector x to the matrix equation (Ax = b) \n",
        "    using Cholesky factorization for symmetric positive definite matrices.\n",
        "    \n",
        "    mugalino 2022\n",
        "    \"\"\"\n",
        "    \n",
        "    # Obtain lower triangular matrix\n",
        "    lower = cholesky_factor(A, debug, check_comparison, lower_triangular)\n",
        "    # and upper triangular matrix\n",
        "    upper = lower.T\n",
        "    \n",
        "    y_vector = forward_substitution(lower, b)\n",
        "    solution_vector = backward_substitution(upper, y_vector)\n",
        "\n",
        "    if check_comparison:\n",
        "        print(\"Solution using NUMPY LAPACK:\", np.linalg.solve(A,b))\n",
        "        print(\"Solution using our Cholesky Solver:\", solution_vector)\n",
        "        print(\"Error array:\", np.abs(np.linalg.solve(A,b) - solution_vector))\n",
        "    \n",
        "    print(\"RMS Error:\", np.sqrt(np.average((np.linalg.solve(A,b) - solution_vector)**2)))\n",
        "    print(\"Solution using our Cholesky Solver:\", solution_vector)"
      ]
    },
    {
      "cell_type": "code",
      "source": [
        "cholesky_solver([[5,2],[2,3]], [1,2], debug = False, check_comparison = False, lower_triangular = True)"
      ],
      "metadata": {
        "colab": {
          "base_uri": "https://localhost:8080/"
        },
        "id": "rnGCEaEiyB9S",
        "outputId": "8c8f5c7e-a117-45bf-dd3d-825efee9dcf8"
      },
      "execution_count": 3,
      "outputs": [
        {
          "output_type": "stream",
          "name": "stdout",
          "text": [
            "RMS Error: 0.0\n",
            "Solution using our Cholesky Solver: [-0.09090909  0.72727273]\n"
          ]
        }
      ]
    },
    {
      "cell_type": "code",
      "source": [
        "input_matrix_A = [[4,1,1,1],[1,3,-1,1],[1,-1,2,0],[1,1,0,2]]\n",
        "vector_b = [0.65, 0.05, 0.00, 0.50]\n",
        "cholesky_solver(input_matrix_A, vector_b, debug = False, check_comparison = False, lower_triangular = True)\n",
        "np.linalg.solve(input_matrix_A, vector_b)"
      ],
      "metadata": {
        "colab": {
          "base_uri": "https://localhost:8080/"
        },
        "id": "5LBnKCmTyPhn",
        "outputId": "97c18460-35a2-4c19-b9a4-ba4c5ec102d9"
      },
      "execution_count": 4,
      "outputs": [
        {
          "output_type": "stream",
          "name": "stdout",
          "text": [
            "RMS Error: 3.1031676915590914e-17\n",
            "Solution using our Cholesky Solver: [ 0.2  -0.2  -0.2   0.25]\n"
          ]
        },
        {
          "output_type": "execute_result",
          "data": {
            "text/plain": [
              "array([ 0.2 , -0.2 , -0.2 ,  0.25])"
            ]
          },
          "metadata": {},
          "execution_count": 4
        }
      ]
    }
  ]
}