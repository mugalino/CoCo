{
 "cells": [
  {
   "cell_type": "markdown",
   "id": "afc945eb",
   "metadata": {},
   "source": [
    "# Light Curve Plotter for the Nebular Phase (Capellaro et al 1997)"
   ]
  },
  {
   "cell_type": "markdown",
   "id": "47ad8408",
   "metadata": {},
   "source": [
    "This code was used for Kosakowski et al (2022) to calculate the luminosity of type Ia events 2011fe and 2019ehk. I revised this to automatically add new colors for additional isotopes. This could account for the radioactive decay of several isotopes using the Bateman equation solution,\n",
    "\n",
    "\\begin{equation}\n",
    "    L(t) = M(A)\\ \\varepsilon_A\\  e^{-\\lambda_A t}\n",
    "\\end{equation}\n",
    "\n",
    "where $M(A)$ is the total mass abundance of isotope with baryon number $A$, $\\varepsilon_A$ is the specific decay energy rate, and $\\lambda_A$ is the decay timescale."
   ]
  },
  {
   "cell_type": "code",
   "execution_count": 2,
   "id": "a7ba8a37",
   "metadata": {},
   "outputs": [
    {
     "ename": "ModuleNotFoundError",
     "evalue": "No module named 'light_curves'",
     "output_type": "error",
     "traceback": [
      "\u001b[0;31m---------------------------------------------------------------------------\u001b[0m",
      "\u001b[0;31mModuleNotFoundError\u001b[0m                       Traceback (most recent call last)",
      "Input \u001b[0;32mIn [2]\u001b[0m, in \u001b[0;36m<cell line: 1>\u001b[0;34m()\u001b[0m\n\u001b[0;32m----> 1\u001b[0m \u001b[38;5;28;01mimport\u001b[39;00m \u001b[38;5;21;01mlight_curves\u001b[39;00m\n\u001b[1;32m      3\u001b[0m \u001b[38;5;66;03m# Input arrays, I decided to go for dictionaries to make my main \u001b[39;00m\n\u001b[1;32m      4\u001b[0m \u001b[38;5;66;03m# code a bit cleaner.\u001b[39;00m\n\u001b[1;32m      6\u001b[0m atoms \u001b[38;5;241m=\u001b[39m [ \\\n\u001b[1;32m      7\u001b[0m         \u001b[38;5;124m\"\u001b[39m\u001b[38;5;124mni56\u001b[39m\u001b[38;5;124m\"\u001b[39m,\\\n\u001b[1;32m      8\u001b[0m         \u001b[38;5;124m\"\u001b[39m\u001b[38;5;124mco56\u001b[39m\u001b[38;5;124m\"\u001b[39m,\\\n\u001b[0;32m   (...)\u001b[0m\n\u001b[1;32m     11\u001b[0m         \u001b[38;5;124m\"\u001b[39m\u001b[38;5;124mti44\u001b[39m\u001b[38;5;124m\"\u001b[39m\n\u001b[1;32m     12\u001b[0m         ]\n",
      "\u001b[0;31mModuleNotFoundError\u001b[0m: No module named 'light_curves'"
     ]
    }
   ],
   "source": [
    "import light_curves\n",
    "\n",
    "# Input arrays, I decided to go for dictionaries to make my main \n",
    "# code a bit cleaner.\n",
    "\n",
    "atoms = [ \\\n",
    "        \"ni56\",\\\n",
    "        \"co56\",\\\n",
    "        \"co57\",\\\n",
    "        \"fe55\",\\\n",
    "        \"ti44\"\n",
    "        ]\n",
    "\n",
    "tgamma_11fe = { \\\n",
    "          \"ni56\" : 0.0,  \\\n",
    "          \"co56\" : 35.0, \\\n",
    "          \"co57\" : 160.0,\\\n",
    "          \"fe55\" : 0.0,\\\n",
    "          \"ti44\" : 0.0}\n",
    "\n",
    "tgamma_19ehk = { \\\n",
    "          \"ni56\" : 0.0,  \\\n",
    "          \"co56\" : 59.0, \\\n",
    "          \"co57\" : 0.0,\\\n",
    "          \"fe55\" : 0.0,\\\n",
    "          \"ti44\" : 0.0}\n",
    "\n",
    "tpos = { \\\n",
    "          \"ni56\" : 0.0,  \\\n",
    "          \"co56\" : 1200.0, \\\n",
    "          \"co57\" : 0.0,\\\n",
    "          \"fe55\" : 0.0,\\\n",
    "          \"ti44\" : 0.0}\n",
    "\n",
    "abundances_11fe = {\\\n",
    "             \"ni56\" : [0.5],\\\n",
    "             \"co56\" : [0.5],\\\n",
    "             \"co57\" : [0.019 * 0.5],\\\n",
    "             \"fe55\" : [0.019 * 0.5 * 0.245],\\\n",
    "             \"ti44\" : [[1.e-4, 1.e-3], [1.15e-6, 4.25e-5], [3.27e-5, 1.4e-3]]} \n",
    "             # ti44 : [Roy, Pakmor], [Leung/Nomoto 2018], [Leung/Nomoto 2020]\n",
    "\n",
    "abundances_19ehk = {\\\n",
    "             \"ni56\" : [3.1e-2],\\\n",
    "             \"co56\" : [2.8e-2],\\\n",
    "             \"co57\" : [8.3e-4],\\\n",
    "             \"fe55\" : [None],\\\n",
    "             \"ti44\" : [[7.34e-3, 1.46e-2]]} \n",
    "             # ni56 : photospheric phase fitting Jacobson Galan\n",
    "             # co56 : nebular phase fitting Jacobson Galan\n",
    "             # ti44 : [Zenati et al 2022]\n",
    "\n",
    "abundances = {\"11fe\" : abundances_11fe, \"19ehk\" : abundances_19ehk}\n",
    "tgamma = {\"11fe\" : tgamma_11fe, \"19ehk\" : tgamma_19ehk}"
   ]
  },
  {
   "cell_type": "code",
   "execution_count": null,
   "id": "8d58ce9b",
   "metadata": {},
   "outputs": [],
   "source": []
  }
 ],
 "metadata": {
  "kernelspec": {
   "display_name": "Python 3 (ipykernel)",
   "language": "python",
   "name": "python3"
  },
  "language_info": {
   "codemirror_mode": {
    "name": "ipython",
    "version": 3
   },
   "file_extension": ".py",
   "mimetype": "text/x-python",
   "name": "python",
   "nbconvert_exporter": "python",
   "pygments_lexer": "ipython3",
   "version": "3.8.10"
  }
 },
 "nbformat": 4,
 "nbformat_minor": 5
}
