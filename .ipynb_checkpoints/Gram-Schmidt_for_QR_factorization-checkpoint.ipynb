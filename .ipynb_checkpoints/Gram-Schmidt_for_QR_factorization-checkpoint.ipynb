{
 "cells": [
  {
   "cell_type": "markdown",
   "id": "ffcd375d",
   "metadata": {},
   "source": [
    "### Gram-Schmidt Orthonormalization for QR factorization\n",
    "\n",
    "Given a matrix $A \\in \\mathbb{C}^{m\\times n}$, we can express it as a row of vectors $\\vec{a}_i$ \n",
    "\\begin{equation}\n",
    "    A = [\\vec{a}_1, \\vec{a}_2, ..., \\vec{a}_n]\n",
    "\\end{equation}\n",
    "\n",
    "There are two mathematically equivalent ways by which we can obtain the QR factorization of A. One is the classical Gram-Schmidt orthonormalization procedure, and the other is its modified version. Both versions lead to the same output when calculated by hand, but could give different numerical results due to roundoff error. You may consult these resources to learn more about these algorithms:\n",
    "\n",
    "https://arnold.hosted.uark.edu/NLA/Pages/CGSMGS.pdf"
   ]
  },
  {
   "cell_type": "code",
   "execution_count": 1,
   "id": "f8a333a3",
   "metadata": {},
   "outputs": [],
   "source": [
    "# author: mugalino 2022\n",
    "\n",
    "# Imports the necessary packages\n",
    "import numpy as np\n",
    "\n",
    "# This code computes for the QR factorization of m x n\n",
    "# matrices with m >= n.\n",
    "\n",
    "def matrix_norm(matrix, order=1):\n",
    "    if order == 1:\n",
    "        return max([np.sum(matrix[i,:]) for i in range(np.shape(matrix)[0])])\n",
    "    elif order == 2:\n",
    "        return max([np.sum(matrix[:,i]) for i in range(np.shape(matrix)[1])])\n",
    "    elif order == \"fro\":\n",
    "        return np.sqrt(np.sum(np.abs(matrix)**2))\n",
    "\n",
    "def gramschmidt(matrix, modified=False, check = True):\n",
    "    mat_shape = np.shape(matrix)\n",
    "    \n",
    "    # Check if the matrix has shape m x n where m >= n\n",
    "    if mat_shape[0] >= mat_shape[1]:\n",
    "        None\n",
    "    else:\n",
    "        return \"[Shape error] This is only applicable to square (mxm) or tall matrices (m>=n)\"\n",
    "    \n",
    "    # Classical\n",
    "    if modified:\n",
    "        Q = np.zeros(mat_shape)\n",
    "        R = np.zeros((mat_shape[1],mat_shape[1]))\n",
    "\n",
    "        for i in range(len(matrix)-1):\n",
    "            if i == 0:\n",
    "                R[i,i] = np.sqrt(np.dot(matrix[:,i],matrix[:,i]))\n",
    "                Q[:,0] = matrix[:,0]/np.sqrt(np.dot(matrix[:,0], matrix[:,0])) \n",
    "            else:\n",
    "                Q[:,i] = matrix[:,i]\n",
    "\n",
    "                for j in range(i):\n",
    "                    R[j,i] = np.dot(Q[:,j],matrix[:,i])\n",
    "                    Q[:,i] -= R[j,i] * Q[:,j]\n",
    "\n",
    "                R[i,i] = np.sqrt(np.dot(Q[:,i],Q[:,i]))\n",
    "                Q[:,i] /= np.sqrt(np.dot(Q[:,i], Q[:,i]))\n",
    "\n",
    "    # Modified\n",
    "    else:\n",
    "        Q = np.zeros(mat_shape)\n",
    "        R = np.zeros((mat_shape[1],mat_shape[1]))\n",
    "        V = np.zeros(mat_shape)\n",
    "\n",
    "        V[:,:] = matrix[:,:]\n",
    "\n",
    "        for i in range(len(matrix)-1):\n",
    "            Q[:,i] = V[:,i] / np.sqrt(np.dot(V[:,i], V[:,i])) \n",
    "\n",
    "            for j in range(i+1,len(matrix)-1):\n",
    "                R[i,j] = np.dot(Q[:,i],V[:,j])\n",
    "                V[:,j] -= R[i,j] * Q[:,i]\n",
    "            R[i,i] = np.sqrt(np.dot(V[:,i],V[:,i]))\n",
    "    if check:\n",
    "        numpy_Q, numpy_R = np.linalg.qr(matrix)\n",
    "        \n",
    "        # Three error prescriptions, ||Q - numpyQ||, ||R - numpyR||, ||QR - matrix||\n",
    "        print(\"||Q-numpy(Q)||=\", matrix_norm(np.abs(Q) - np.abs(numpy_Q), order=\"fro\"))\n",
    "        print(\"||R-numpy(R)||=\", matrix_norm(np.abs(R) - np.abs(numpy_R), order=\"fro\"))\n",
    "        print(\"||QR-A||=\", matrix_norm(np.dot(Q,R) - matrix, order=\"fro\"))\n",
    "\n",
    "    return Q, R"
   ]
  },
  {
   "cell_type": "code",
   "execution_count": 2,
   "id": "7a892b04",
   "metadata": {},
   "outputs": [],
   "source": [
    "matrix = np.array([[1,2,3,4],[2,5,7,10],[3,8,9,4]]).T"
   ]
  },
  {
   "cell_type": "code",
   "execution_count": 3,
   "id": "be74c6fc",
   "metadata": {},
   "outputs": [
    {
     "name": "stdout",
     "output_type": "stream",
     "text": [
      "||Q-numpy(Q)||= 1.8450674160308825e-15\n",
      "||R-numpy(R)||= 3.219646771412954e-15\n",
      "||QR-A||= 8.08254562088053e-16\n"
     ]
    },
    {
     "data": {
      "text/plain": [
       "(array([[ 0.18257419, -0.71562645, -0.22372097],\n",
       "        [ 0.36514837,  0.22019275,  0.79900347],\n",
       "        [ 0.54772256, -0.49543369,  0.22372097],\n",
       "        [ 0.73029674,  0.44038551, -0.51136222]]),\n",
       " array([[ 5.47722558, 13.32791557, 11.31959952],\n",
       "        [ 0.        ,  0.60553007, -3.08269854],\n",
       "        [ 0.        ,  0.        ,  5.68890467]]))"
      ]
     },
     "execution_count": 3,
     "metadata": {},
     "output_type": "execute_result"
    }
   ],
   "source": [
    "gramschmidt(matrix)"
   ]
  },
  {
   "cell_type": "code",
   "execution_count": null,
   "id": "be3f9d15",
   "metadata": {},
   "outputs": [],
   "source": []
  }
 ],
 "metadata": {
  "kernelspec": {
   "display_name": "Python 3 (ipykernel)",
   "language": "python",
   "name": "python3"
  },
  "language_info": {
   "codemirror_mode": {
    "name": "ipython",
    "version": 3
   },
   "file_extension": ".py",
   "mimetype": "text/x-python",
   "name": "python",
   "nbconvert_exporter": "python",
   "pygments_lexer": "ipython3",
   "version": "3.8.10"
  }
 },
 "nbformat": 4,
 "nbformat_minor": 5
}
